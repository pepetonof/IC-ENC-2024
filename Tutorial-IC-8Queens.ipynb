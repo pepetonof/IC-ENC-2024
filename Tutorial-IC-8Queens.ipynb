{
  "nbformat": 4,
  "nbformat_minor": 0,
  "metadata": {
    "colab": {
      "provenance": [],
      "authorship_tag": "ABX9TyOT9iF/yTN/E/9jU+AMwMnC",
      "include_colab_link": true
    },
    "kernelspec": {
      "name": "python3",
      "display_name": "Python 3"
    },
    "language_info": {
      "name": "python"
    }
  },
  "cells": [
    {
      "cell_type": "markdown",
      "metadata": {
        "id": "view-in-github",
        "colab_type": "text"
      },
      "source": [
        "<a href=\"https://colab.research.google.com/github/pepetonof/IC-Tutorial/blob/main/Tutorial-IC-8Queens.ipynb\" target=\"_parent\"><img src=\"https://colab.research.google.com/assets/colab-badge.svg\" alt=\"Open In Colab\"/></a>"
      ]
    },
    {
      "cell_type": "code",
      "source": [
        "!pip install deap"
      ],
      "metadata": {
        "colab": {
          "base_uri": "https://localhost:8080/"
        },
        "collapsed": true,
        "id": "8DEjsPPw1sLE",
        "outputId": "9a04a745-60dc-4bb9-c925-43f74623497b"
      },
      "execution_count": 1,
      "outputs": [
        {
          "output_type": "stream",
          "name": "stdout",
          "text": [
            "Requirement already satisfied: deap in /usr/local/lib/python3.10/dist-packages (1.4.1)\n",
            "Requirement already satisfied: numpy in /usr/local/lib/python3.10/dist-packages (from deap) (1.26.4)\n"
          ]
        }
      ]
    },
    {
      "cell_type": "code",
      "execution_count": 12,
      "metadata": {
        "id": "6T8sMxF2b17s"
      },
      "outputs": [],
      "source": [
        "from deap import algorithms\n",
        "from deap import base\n",
        "from deap import creator\n",
        "from deap import tools\n",
        "import random\n",
        "import numpy as np\n",
        "import matplotlib.pyplot as plt\n",
        "import matplotlib.animation as animation"
      ]
    },
    {
      "cell_type": "markdown",
      "source": [
        "#Problema delas 8 reinas\n",
        "\n",
        "El problema de las ocho damas no es estrictamente ajedrecístico, porque no se puede producir en una partida real debido a la ausencia de los reyes, no por la proliferación de reinas. Fue planteado por primera vez por el ajedrecista Max Bezzel en 1848, en la revista ‘Berliner Schachzeitung’."
      ],
      "metadata": {
        "id": "raCQ1wgUdG7S"
      }
    },
    {
      "cell_type": "markdown",
      "source": [
        "![Ocho_reinas_reina_atacar_fila.jpeg](data:image/jpeg;base64,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)"
      ],
      "metadata": {
        "id": "3D1n7KAHctuU"
      }
    },
    {
      "cell_type": "markdown",
      "source": [
        "# Representaciones\n",
        "Recordar que las reinas no deben compartir fila, columna o diagonal!\n",
        "\n",
        "## Representación de matriz binaria\n",
        "1. Proporciona una representación visual del tablero de ajedrez\n",
        "2. Alamcenamiento de ceros\n",
        "3. Requiere **verificar conflictos en filas, columnas y diagonales**\n",
        "\n",
        "\n",
        "\n",
        "  [0, 0, 1, 0], <br>\n",
        "  [0, 0, 0, 0], <br>\n",
        "  [1, 0, 0, 1], <br>\n",
        "  [0, 1, 0, 0], <br>\n",
        "\n",
        "\n",
        "## Representación de permutaciones\n",
        "1. Elimina la necesitad de almacenar ceros para las posiciones vacías\n",
        "2. Facilita la verificación de restricciones comparando los indices de las columnas. Solo se necesita **verificar conflictos en las diagonales**\n",
        "\n",
        " [2, **empty**, 0/3, 1] <br>"
      ],
      "metadata": {
        "id": "iZ7VuQh8aUAe"
      }
    },
    {
      "cell_type": "code",
      "source": [
        "creator.create(\"FitnessMin\", base.Fitness, weights=(-1.0,))\n",
        "creator.create(\"Individual\", np.ndarray, fitness=creator.FitnessMin)\n",
        "\n",
        "toolbox = base.Toolbox()\n",
        "toolbox.register(\"permutation\", random.sample, range(8), 8)\n",
        "toolbox.register(\"individual\", tools.initIterate, creator.Individual, toolbox.permutation)\n",
        "toolbox.register(\"population\", tools.initRepeat, list, toolbox.individual)\n",
        "\n",
        "#fitness function taken from:\n",
        "#https://github.com/LuisAlejandroSalcedo/Problema-de-las-N-Reinas/blob/master/NQueens.py\n",
        "def fitness(individual):\n",
        "    size = len(individual)\n",
        "\n",
        "    #solo ataques en diagonal\n",
        "    diagonal_izquierda_derecha = [0] * (2*size-1)\n",
        "    diagonal_derecha_izquierda = [0] * (2*size-1)\n",
        "\n",
        "    #no. de 1s en casa diago\n",
        "    for i in range(size): # recorremos las columnas\n",
        "        diagonal_izquierda_derecha[i+individual[i]] += 1 # [columna + fila]\n",
        "        diagonal_derecha_izquierda[size-1-i+individual[i]] += 1 # [size-1-columna+ fila]\n",
        "\n",
        "    suma = 0\n",
        "    for i in range(2*size-1): # recorremos todas las diagonales\n",
        "        if diagonal_izquierda_derecha[i] > 1: # hay ataques\n",
        "            suma += diagonal_izquierda_derecha[i] - 1 # n-1 ataques\n",
        "        if diagonal_derecha_izquierda[i] > 1:\n",
        "            suma += diagonal_derecha_izquierda[i] - 1\n",
        "    return suma,\n",
        "\n",
        "toolbox.register(\"evaluate\", fitness)\n",
        "toolbox.register(\"mate\", tools.cxPartialyMatched)\n",
        "toolbox.register(\"mutate\", tools.mutShuffleIndexes, indpb=2.0/8)\n",
        "toolbox.register(\"select\", tools.selTournament, tournsize=3)"
      ],
      "metadata": {
        "id": "tlShEZImy9f8",
        "colab": {
          "base_uri": "https://localhost:8080/"
        },
        "outputId": "6939f2ac-ae76-4abb-b1e1-7fb3640ab5bf"
      },
      "execution_count": 13,
      "outputs": [
        {
          "output_type": "stream",
          "name": "stderr",
          "text": [
            "/usr/local/lib/python3.10/dist-packages/deap/creator.py:185: RuntimeWarning: A class named 'FitnessMin' has already been created and it will be overwritten. Consider deleting previous creation of that class or rename it.\n",
            "  warnings.warn(\"A class named '{0}' has already been created and it \"\n",
            "/usr/local/lib/python3.10/dist-packages/deap/creator.py:185: RuntimeWarning: A class named 'Individual' has already been created and it will be overwritten. Consider deleting previous creation of that class or rename it.\n",
            "  warnings.warn(\"A class named '{0}' has already been created and it \"\n"
          ]
        }
      ]
    },
    {
      "cell_type": "code",
      "source": [
        "stats_fit = tools.Statistics(lambda ind: ind.fitness.values[0])\n",
        "stats = tools.Statistics(lambda ind: ind.fitness.values)\n",
        "stats.register(\"avg\", np.mean)\n",
        "stats.register(\"std\", np.std)\n",
        "stats.register(\"min\", np.min)\n",
        "stats.register(\"max\", np.max)\n",
        "\n",
        "def similar(ind1, ind2):\n",
        "    \"\"\"\n",
        "    A custom similarity function that compares two individuals\n",
        "    element-wise and returns True if they are identical, False otherwise.\n",
        "    \"\"\"\n",
        "    return np.array_equal(ind1, ind2) # Use NumPy's array_equal for element-wise comparison\n",
        "\n",
        "def varAnd(population, toolbox, cxpb, mutpb):\n",
        "    offspring = [toolbox.clone(ind) for ind in population]\n",
        "    # Apply crossover and mutation on the offspring\n",
        "    for i in range(1, len(offspring), 2):\n",
        "        if random.random() < cxpb:\n",
        "            offspring[i - 1], offspring[i] = toolbox.mate(offspring[i - 1],\n",
        "                                                          offspring[i])\n",
        "            del offspring[i - 1].fitness.values, offspring[i].fitness.values\n",
        "\n",
        "    for i in range(len(offspring)):\n",
        "        if random.random() < mutpb:\n",
        "            offspring[i], = toolbox.mutate(offspring[i])\n",
        "            del offspring[i].fitness.values\n",
        "\n",
        "    return offspring\n",
        "\n",
        "def plot_individual(individual):\n",
        "    x= range(8)\n",
        "    x= np.array(x)\n",
        "    y= individual\n",
        "    y = np.array(y)\n",
        "    x = x + 0.5\n",
        "    y = y + 0.5\n",
        "    fig, ax = plt.subplots()\n",
        "    scatter = ax.scatter(x,y)\n",
        "    ax.set_xlim(0,8)\n",
        "    ax.set_ylim(0,8)\n",
        "    ax.set_xticks(x-0.5)\n",
        "    ax.set_yticks(x-0.5)\n",
        "    ax.grid(True)\n",
        "    ax.set_title(f\"Mejor Individuo \\t\"+str(individual))\n",
        "    return fig, scatter\n",
        "\n",
        "\n",
        "def ea(population, toolbox, cxpb, mutpb, ngen, stats=None,\n",
        "             halloffame=None, verbose=__debug__):\n",
        "\n",
        "  logbook = tools.Logbook()\n",
        "  logbook.header = ['gen', 'nevals'] + (stats.fields if stats else [])\n",
        "\n",
        "  invalid_ind = [ind for ind in population if not ind.fitness.valid]\n",
        "  fitnesses = toolbox.map(toolbox.evaluate, invalid_ind)\n",
        "  for ind, fit in zip(invalid_ind, fitnesses):\n",
        "      ind.fitness.values = fit\n",
        "\n",
        "  if halloffame is not None:\n",
        "      halloffame.update(population)\n",
        "\n",
        "  record = stats.compile(population) if stats else {}\n",
        "  logbook.record(gen=0, nevals=len(invalid_ind), **record)\n",
        "  if verbose:\n",
        "      print(logbook.stream)\n",
        "\n",
        "  fig, ax = plt.subplots()\n",
        "  x = np.array(range(8))\n",
        "  x = x + 0.5\n",
        "  ax.grid(True)\n",
        "  ax.set_xticks(x-0.5)\n",
        "  ax.set_yticks(x-0.5)\n",
        "  ax.set_xlim(0,8)\n",
        "  ax.set_ylim(0,8)\n",
        "\n",
        "  frames = []\n",
        "\n",
        "  # Begin the generational process\n",
        "  for gen in range(1, ngen + 1):\n",
        "      best = tools.selBest(population, 1)[0]\n",
        "\n",
        "      scatter = ax.scatter(x,np.array(best)+0.5)\n",
        "      ax.set_title(u'Mejor Individuo '+ str(gen))\n",
        "      frames.append([scatter])\n",
        "\n",
        "      if best.fitness.values == (0,):\n",
        "          print(\"Best individual is: %s, %s\" % (best, best.fitness.values))\n",
        "          break\n",
        "      # Select the next generation individuals\n",
        "      offspring = toolbox.select(population, len(population))\n",
        "\n",
        "      # Vary the pool of individuals\n",
        "      offspring = varAnd(offspring, toolbox, cxpb, mutpb)\n",
        "\n",
        "      # Evaluate the individuals with an invalid fitness\n",
        "      invalid_ind = [ind for ind in offspring if not ind.fitness.valid]\n",
        "      fitnesses = toolbox.map(toolbox.evaluate, invalid_ind)\n",
        "      for ind, fit in zip(invalid_ind, fitnesses):\n",
        "          ind.fitness.values = fit\n",
        "\n",
        "      # Update the hall of fame with the generated individuals\n",
        "      if halloffame is not None:\n",
        "          halloffame.update(offspring)\n",
        "\n",
        "      # Replace the current population by the offspring\n",
        "      population[:] = offspring\n",
        "\n",
        "      # Append the current generation statistics to the logbook\n",
        "      record = stats.compile(population) if stats else {}\n",
        "      logbook.record(gen=gen, nevals=len(invalid_ind), **record)\n",
        "      if verbose:\n",
        "          print(logbook.stream)\n",
        "\n",
        "  ani = animation.ArtistAnimation(fig, frames, interval=2000, blit=True, repeat=False)\n",
        "  writer = animation.PillowWriter(fps=10)\n",
        "  ani.save('./eight_queens.gif', writer=writer)\n",
        "\n",
        "  return population, logbook"
      ],
      "metadata": {
        "id": "5WL-kaZog6Fi"
      },
      "execution_count": 53,
      "outputs": []
    },
    {
      "cell_type": "code",
      "source": [
        "pop = toolbox.population(n=10)\n",
        "hof = tools.HallOfFame(10)\n",
        "# Overwrite the default `similar` method in the HallOfFame class\n",
        "hof.similar = similar\n",
        "pop, log = ea(pop, toolbox, 0.5, 0.5, 90, stats=stats,\n",
        "              halloffame=hof, verbose=True)"
      ],
      "metadata": {
        "colab": {
          "base_uri": "https://localhost:8080/",
          "height": 1000
        },
        "id": "0NmCHxjMiRiF",
        "outputId": "6ac14291-d16e-421f-c009-a282f13b5405"
      },
      "execution_count": 54,
      "outputs": [
        {
          "output_type": "stream",
          "name": "stdout",
          "text": [
            "gen\tnevals\tavg\tstd     \tmin\tmax\n",
            "0  \t10    \t3.5\t0.921954\t2  \t5  \n",
            "1  \t6     \t3.4\t1.56205 \t1  \t6  \n",
            "2  \t6     \t3  \t1.09545 \t2  \t5  \n",
            "3  \t4     \t3.2\t1.249   \t2  \t6  \n",
            "4  \t8     \t3.5\t1.56525 \t2  \t6  \n",
            "5  \t8     \t3.3\t1.55242 \t2  \t6  \n",
            "6  \t6     \t2.7\t1.00499 \t2  \t5  \n",
            "7  \t5     \t2.6\t1.0198  \t2  \t5  \n",
            "8  \t7     \t3.5\t1.56525 \t2  \t6  \n",
            "9  \t8     \t3  \t1.41421 \t2  \t7  \n",
            "10 \t9     \t3.7\t1.95192 \t2  \t9  \n",
            "11 \t7     \t3.3\t1.1     \t1  \t5  \n",
            "12 \t7     \t3.3\t0.9     \t1  \t4  \n",
            "13 \t9     \t3  \t1       \t1  \t5  \n",
            "14 \t7     \t2.5\t1.28452 \t1  \t5  \n",
            "15 \t8     \t2.6\t1.11355 \t1  \t4  \n",
            "16 \t6     \t2.6\t1.74356 \t1  \t6  \n",
            "17 \t9     \t2.5\t1.28452 \t1  \t5  \n",
            "18 \t10    \t3.4\t0.663325\t3  \t5  \n",
            "19 \t8     \t3.3\t0.781025\t2  \t5  \n",
            "20 \t7     \t3  \t0.774597\t2  \t4  \n",
            "21 \t5     \t3.3\t1.26886 \t2  \t6  \n",
            "22 \t7     \t3  \t0.774597\t2  \t4  \n",
            "23 \t7     \t2.7\t1.00499 \t2  \t5  \n",
            "24 \t8     \t2.7\t1.41774 \t2  \t6  \n",
            "25 \t6     \t2.5\t1.36015 \t1  \t6  \n",
            "26 \t9     \t2.7\t0.9     \t1  \t4  \n",
            "27 \t9     \t2.5\t0.806226\t1  \t4  \n",
            "28 \t8     \t3.3\t1.26886 \t1  \t5  \n",
            "29 \t9     \t3.1\t1.22066 \t1  \t5  \n",
            "30 \t9     \t2.9\t1.13578 \t1  \t5  \n",
            "31 \t9     \t3.5\t1.11803 \t2  \t6  \n",
            "32 \t9     \t4.1\t1.04403 \t2  \t5  \n",
            "33 \t8     \t3.7\t0.781025\t2  \t5  \n",
            "34 \t9     \t3.7\t1.26886 \t2  \t6  \n",
            "35 \t8     \t3.7\t1.18743 \t2  \t6  \n",
            "36 \t4     \t2.9\t0.830662\t2  \t4  \n",
            "37 \t6     \t3.2\t0.6     \t2  \t4  \n",
            "38 \t6     \t3  \t1.18322 \t2  \t5  \n",
            "39 \t10    \t3.3\t1.00499 \t2  \t5  \n",
            "40 \t8     \t4  \t1.26491 \t2  \t6  \n",
            "41 \t8     \t3.6\t1.0198  \t2  \t6  \n",
            "42 \t7     \t3.1\t1.04403 \t1  \t4  \n",
            "43 \t7     \t3.1\t0.943398\t2  \t5  \n",
            "44 \t9     \t3.8\t1.83303 \t2  \t8  \n",
            "45 \t9     \t3.6\t1.28062 \t2  \t6  \n",
            "46 \t9     \t2.7\t0.781025\t2  \t4  \n",
            "47 \t9     \t4  \t1.61245 \t1  \t7  \n",
            "48 \t5     \t2.7\t1.84662 \t1  \t7  \n",
            "49 \t8     \t3  \t1.84391 \t1  \t7  \n",
            "50 \t7     \t1.6\t1.0198  \t1  \t4  \n",
            "51 \t9     \t2.2\t1.72047 \t1  \t6  \n",
            "52 \t10    \t2.3\t1.61555 \t0  \t5  \n",
            "Best individual is: [5 3 6 0 2 4 1 7], (0.0,)\n"
          ]
        },
        {
          "output_type": "display_data",
          "data": {
            "text/plain": [
              "<Figure size 640x480 with 1 Axes>"
            ],
            "image/png": "[encoded data removed]"
          },
          "metadata": {}
        }
      ]
    },
    {
      "cell_type": "code",
      "source": [
        "def convergence_graph(logbook, name):\n",
        "  gen=logbook.select(\"gen\")\n",
        "  fit_max=logbook.select(\"min\")\n",
        "  fit_avg=logbook.select(\"avg\")\n",
        "  fig, host = plt.subplots()\n",
        "  p1, = host.plot(gen, fit_max, \"b-\", label=\"Min Fit\")\n",
        "  p2, = host.plot(gen, fit_avg, \"r-\", label=\"Avg Fit\")\n",
        "  host.set_xlabel(\"Generations\")\n",
        "  host.set_ylabel(\"Fitness\")\n",
        "  host.yaxis.label.set_color(p1.get_color())\n",
        "  tkw = dict(size=4, width=1.5)\n",
        "  host.tick_params(axis='y', colors=p1.get_color(), **tkw)\n",
        "  lines = [p1,p2]\n",
        "\n",
        "  host.legend(lines, [l.get_label() for l in lines], loc=\"upper right\")\n",
        "  # fig.savefig(ruta+\"/Convergencia.png\")\n",
        "  fig.savefig(\"./\"+name)\n",
        "  # plt.close(fig)\n",
        "  plt.show()\n",
        "\n",
        "convergence_graph(log, \"GraficaConvergencia\")"
      ],
      "metadata": {
        "colab": {
          "base_uri": "https://localhost:8080/",
          "height": 449
        },
        "id": "nKm5e6sFnXMc",
        "outputId": "3deaae6e-3fab-4e18-f4d0-1689cae339ca"
      },
      "execution_count": 55,
      "outputs": [
        {
          "output_type": "display_data",
          "data": {
            "text/plain": [
              "<Figure size 640x480 with 1 Axes>"
            ],
            "image/png": "[encoded data removed]"
          },
          "metadata": {}
        }
      ]
    }
  ]
}